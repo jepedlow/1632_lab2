{
 "cells": [
  {
   "cell_type": "code",
   "execution_count": 9,
   "metadata": {},
   "outputs": [],
   "source": [
    "import lab2_setup\n",
    "import numpy as np\n",
    "import sympy\n",
    "import time\n",
    "\n",
    "#####################\n",
    "Qc = 1\n",
    "R = np.diag([0.1, 0.1, 0.1, 0.1, 0.1])\n",
    "#####################\n",
    "\n",
    "dt = 0.01\n",
    "nx = 6\n",
    "ny = 5\n",
    "ntime = 100\n",
    "\n",
    "phi, p, theta, q, psi, r = sympy.symbols('phi, p, theta, q, psi, r')\n",
    "f = sympy.Matrix([\n",
    "    p + sympy.sin(phi)*sympy.tan(theta)*q + sympy.cos(phi)*sympy.tan(theta)*r,\n",
    "    0.0,\n",
    "    sympy.cos(phi)*q - sympy.sin(phi)*r,\n",
    "    0.0,\n",
    "    sympy.sin(phi)*sympy.sec(theta)*q + sympy.cos(phi)*sympy.sec(theta)*r,\n",
    "    0.0\n",
    "])\n",
    "\n",
    "A = f.jacobian([phi, p, theta, q, psi, r])\n",
    "A_func = sympy.lambdify([phi, p, theta, q, psi, r], A, modules=['numpy', {'sec':sympy.sec}])\n",
    "f = sympy.lambdify([phi, p, theta, q, psi, r], A, modules=['numpy', {'sec':sympy.sec}])\n",
    "\n",
    "h = sympy.Matrix([phi, p, theta, q, r])\n",
    "h_func = sympy.lambdify([phi, p, theta, q, psi, r], h, modules=['numpy', {'sec':sympy.sec}])\n",
    "\n",
    "C = h.jacobian([phi, p, theta, q, psi, r])\n",
    "C_func = sympy.lambdify([phi, p, theta, q, psi, r], C, modules=['numpy', {'sec':sympy.sec}])\n",
    "\n",
    "\n",
    "x = sympy.Matrix([phi, p, theta, q, psi, r])\n",
    "x0 = np.array([[0.0,0.0,0.0,0.0,0.0,0.0]]).T\n",
    "\n",
    "V = Qc * np.array([[1/3*dt**3,1/2*dt**2,0,0,0,0],\n",
    "                    [1/2*dt**2, dt, 0, 0,0,0],\n",
    "                    [0,0,1/3*dt**3,1/2*dt**2,0,0],\n",
    "                    [0,0,1/2*dt**2, dt,0,0],\n",
    "                    [0,0,0,0,1/3*dt**3,1/2*dt**2],\n",
    "                    [0,0,0,0,1/2*dt**2, dt]])\n",
    "\n",
    "Q0 = V\n",
    "\n",
    "\n",
    "\n",
    "\n",
    "# imu = lab2_setup.IMU()\n",
    "\n",
    "\n"
   ]
  },
  {
   "cell_type": "code",
   "execution_count": 12,
   "metadata": {},
   "outputs": [],
   "source": [
    "xh = np.empty((nx,1,ntime))\n",
    "Qh = np.empty((nx,nx,ntime))\n",
    "\n",
    "i = 0\n",
    "xkk = x0\n",
    "Qkk = Q0\n",
    "xh[:,:,i] = x0\n",
    "Qh[:,:,i] = Q0\n",
    "\n",
    "\n",
    "while i<ntime-1:\n",
    "    i += 1\n",
    "    # propogate statistics\n",
    "    xkkm1 = xkk + dt*A_func(xkk[0,0],xkk[1,0],xkk[2,0],xkk[3,0],xkk[4,0],xkk[5,0])@xkk\n",
    "    Qkkm1 = Qkk + dt*(A_func(xkk[0,0],xkk[1,0],xkk[2,0],xkk[3,0],xkk[4,0],xkk[5,0])@Qkk\n",
    "                        + Qkk@A_func(xkk[0,0],xkk[1,0],xkk[2,0],xkk[3,0],xkk[4,0],xkk[5,0]).T\n",
    "                        + V)\n",
    "    Qkkm1 = Qkkm1.astype(np.float64)\n",
    "\n",
    "    # get measurement\n",
    "    y = np.zeros((5,1))\n",
    "    # acc = imu.get_acc()\n",
    "    # gyr = imu.get_gyr()\n",
    "    # y[0] = acc[0]\n",
    "    # y[2] = acc[1]\n",
    "    # y[1] = gyr[0]\n",
    "    # y[3] = gyr[1]\n",
    "    # y[4] = gyr[2]\n",
    "\n",
    "    # update estimate using measurement\n",
    "    Ck = C_func(xkk[0,0],xkk[1,0],xkk[2,0],xkk[3,0],xkk[4,0],xkk[5,0]).astype(np.float64)\n",
    "    Lk = Qkkm1@Ck.T@np.linalg.inv(Ck@Qkkm1@Ck.T + R)\n",
    "    xkk = xkkm1 + Lk@(y - h_func(xkk[0,0],xkk[1,0],xkk[2,0],xkk[3,0],xkk[4,0],xkk[5,0]))\n",
    "    xkk = xkk.astype(np.float64)\n",
    "    Qkk = (np.eye(nx) - Lk@Ck)@Qkkm1\n",
    "\n",
    "    xh[:,:,i] = xkk\n",
    "    Qh[:,:,i] = Qkk\n",
    "    "
   ]
  },
  {
   "cell_type": "code",
   "execution_count": 13,
   "metadata": {},
   "outputs": [
    {
     "data": {
      "image/png": "[encoded data removed]",
      "text/plain": [
       "<Figure size 576x432 with 1 Axes>"
      ]
     },
     "metadata": {
      "needs_background": "light"
     },
     "output_type": "display_data"
    }
   ],
   "source": [
    "import matplotlib.pyplot as plt\n",
    "\n",
    "t = np.linspace(0,ntime*dt,ntime)\n",
    "\n",
    "\n",
    "plt.figure()\n",
    "plt.plot(t,xh[0,0,:], label=\"$\\phi$\")\n",
    "plt.plot(t,xh[1,0,:], label=\"$\\\\theta$\")\n",
    "plt.plot(t,xh[2,0,:], label=\"$\\psi$\")\n",
    "plt.xlabel(\"Time [s]\")\n",
    "plt.title(\"EKF\")\n",
    "plt.ylabel(\"Orientation [rad]\")\n",
    "plt.legend()\n",
    "plt.show()"
   ]
  },
  {
   "cell_type": "code",
   "execution_count": 14,
   "metadata": {},
   "outputs": [
    {
     "data": {
      "image/png": "[encoded data removed]",
      "text/plain": [
       "<Figure size 576x432 with 1 Axes>"
      ]
     },
     "metadata": {
      "needs_background": "light"
     },
     "output_type": "display_data"
    }
   ],
   "source": [
    "plt.figure()\n",
    "plt.plot(t,Qh[0,0,:], label=\"$Q_1$\")\n",
    "plt.plot(t,Qh[1,1,:], label=\"$Q_2$\")\n",
    "plt.plot(t,Qh[2,2,:], label=\"$Q_3$\")\n",
    "plt.plot(t,Qh[3,3,:], label=\"$Q_4$\")\n",
    "plt.plot(t,Qh[4,4,:], label=\"$Q_5$\")\n",
    "plt.plot(t,Qh[5,5,:], label=\"$Q_6$\")\n",
    "plt.xlabel(\"Time [s]\")\n",
    "plt.title(\"EKF\")\n",
    "plt.ylabel(\"Q\")\n",
    "plt.legend()\n",
    "plt.show()"
   ]
  },
  {
   "cell_type": "code",
   "execution_count": null,
   "metadata": {},
   "outputs": [],
   "source": []
  }
 ],
 "metadata": {
  "codeCellConfig": {
   "tabSize": 2
  },
  "colab": {
   "provenance": []
  },
  "kernelspec": {
   "display_name": "Python 3.9.7 ('base')",
   "language": "python",
   "name": "python3"
  },
  "language_info": {
   "codemirror_mode": {
    "name": "ipython",
    "version": 3
   },
   "file_extension": ".py",
   "mimetype": "text/x-python",
   "name": "python",
   "nbconvert_exporter": "python",
   "pygments_lexer": "ipython3",
   "version": "3.9.7"
  },
  "vscode": {
   "interpreter": {
    "hash": "c711176dfe45da79f5dbc2bf9cf83339a40a3a02f46e8cf4c001f4a4ab9e0b8d"
   }
  }
 },
 "nbformat": 4,
 "nbformat_minor": 4
}
