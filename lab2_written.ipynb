{
 "cells": [
  {
   "cell_type": "code",
   "execution_count": 71,
   "metadata": {},
   "outputs": [
    {
     "ename": "AttributeError",
     "evalue": "module 'esp32imu' has no attribute 'SerialDriver'",
     "output_type": "error",
     "traceback": [
      "\u001b[0;31m---------------------------------------------------------------------------\u001b[0m",
      "\u001b[0;31mAttributeError\u001b[0m                            Traceback (most recent call last)",
      "\u001b[0;32m/var/folders/5n/t4mfl0s539z8cqdtts6pz8t80000gn/T/ipykernel_58065/3036892062.py\u001b[0m in \u001b[0;36m<module>\u001b[0;34m\u001b[0m\n\u001b[1;32m     49\u001b[0m \u001b[0;34m\u001b[0m\u001b[0m\n\u001b[1;32m     50\u001b[0m \u001b[0;34m\u001b[0m\u001b[0m\n\u001b[0;32m---> 51\u001b[0;31m \u001b[0mimu\u001b[0m \u001b[0;34m=\u001b[0m \u001b[0mlab2_setup\u001b[0m\u001b[0;34m.\u001b[0m\u001b[0mIMU\u001b[0m\u001b[0;34m(\u001b[0m\u001b[0;34m)\u001b[0m\u001b[0;34m\u001b[0m\u001b[0;34m\u001b[0m\u001b[0m\n\u001b[0m\u001b[1;32m     52\u001b[0m \u001b[0;34m\u001b[0m\u001b[0m\n\u001b[1;32m     53\u001b[0m \u001b[0;34m\u001b[0m\u001b[0m\n",
      "\u001b[0;32m~/Documents/16.32/Psets/Lab2/lab2_setup.py\u001b[0m in \u001b[0;36m__init__\u001b[0;34m(self, Fs, port, baud)\u001b[0m\n\u001b[1;32m     62\u001b[0m         \u001b[0mself\u001b[0m\u001b[0;34m.\u001b[0m\u001b[0mlatestimu\u001b[0m \u001b[0;34m=\u001b[0m \u001b[0;32mNone\u001b[0m\u001b[0;34m\u001b[0m\u001b[0;34m\u001b[0m\u001b[0m\n\u001b[1;32m     63\u001b[0m \u001b[0;34m\u001b[0m\u001b[0m\n\u001b[0;32m---> 64\u001b[0;31m         \u001b[0mself\u001b[0m\u001b[0;34m.\u001b[0m\u001b[0m_connect\u001b[0m\u001b[0;34m(\u001b[0m\u001b[0;34m)\u001b[0m\u001b[0;34m\u001b[0m\u001b[0;34m\u001b[0m\u001b[0m\n\u001b[0m\u001b[1;32m     65\u001b[0m \u001b[0;34m\u001b[0m\u001b[0m\n\u001b[1;32m     66\u001b[0m     \u001b[0;32mdef\u001b[0m \u001b[0m__del__\u001b[0m\u001b[0;34m(\u001b[0m\u001b[0mself\u001b[0m\u001b[0;34m)\u001b[0m\u001b[0;34m:\u001b[0m\u001b[0;34m\u001b[0m\u001b[0;34m\u001b[0m\u001b[0m\n",
      "\u001b[0;32m~/Documents/16.32/Psets/Lab2/lab2_setup.py\u001b[0m in \u001b[0;36m_connect\u001b[0;34m(self)\u001b[0m\n\u001b[1;32m     73\u001b[0m         \u001b[0mA\u001b[0m \u001b[0mcallback\u001b[0m \u001b[0;32mis\u001b[0m \u001b[0mregistered\u001b[0m \u001b[0mthat\u001b[0m \u001b[0mfires\u001b[0m \u001b[0meach\u001b[0m \u001b[0mtime\u001b[0m \u001b[0man\u001b[0m \u001b[0mIMU\u001b[0m \u001b[0msample\u001b[0m \u001b[0;32mis\u001b[0m \u001b[0mreceived\u001b[0m\u001b[0;34m.\u001b[0m\u001b[0;34m\u001b[0m\u001b[0;34m\u001b[0m\u001b[0m\n\u001b[1;32m     74\u001b[0m         \"\"\"       \n\u001b[0;32m---> 75\u001b[0;31m         \u001b[0mself\u001b[0m\u001b[0;34m.\u001b[0m\u001b[0mdriver\u001b[0m \u001b[0;34m=\u001b[0m \u001b[0mesp32imu\u001b[0m\u001b[0;34m.\u001b[0m\u001b[0mSerialDriver\u001b[0m\u001b[0;34m(\u001b[0m\u001b[0mself\u001b[0m\u001b[0;34m.\u001b[0m\u001b[0mport\u001b[0m\u001b[0;34m,\u001b[0m \u001b[0mself\u001b[0m\u001b[0;34m.\u001b[0m\u001b[0mbaud\u001b[0m\u001b[0;34m)\u001b[0m \u001b[0;31m# start the serial driver to get IMU\u001b[0m\u001b[0;34m\u001b[0m\u001b[0;34m\u001b[0m\u001b[0m\n\u001b[0m\u001b[1;32m     76\u001b[0m         \u001b[0mtime\u001b[0m\u001b[0;34m.\u001b[0m\u001b[0msleep\u001b[0m\u001b[0;34m(\u001b[0m\u001b[0;36m0.1\u001b[0m\u001b[0;34m)\u001b[0m \u001b[0;31m# requisite 100ms wait period for everything to get setup\u001b[0m\u001b[0;34m\u001b[0m\u001b[0;34m\u001b[0m\u001b[0m\n\u001b[1;32m     77\u001b[0m         \u001b[0;31m# Request a specific IMU sample rate.\u001b[0m\u001b[0;34m\u001b[0m\u001b[0;34m\u001b[0m\u001b[0m\n",
      "\u001b[0;31mAttributeError\u001b[0m: module 'esp32imu' has no attribute 'SerialDriver'"
     ]
    }
   ],
   "source": [
    "import lab2_setup\n",
    "import numpy as np\n",
    "import sympy\n",
    "import time\n",
    "\n",
    "#####################\n",
    "Qc = 1\n",
    "R = np.diag([0.1, 0.1, 0.1, 0.1, 0.1])\n",
    "#####################\n",
    "\n",
    "dt = 0.01\n",
    "nx = 6\n",
    "ny = 5\n",
    "\n",
    "phi, p, theta, q, psi, r = sympy.symbols('phi, p, theta, q, psi, r')\n",
    "f = sympy.Matrix([\n",
    "    p + sympy.sin(phi)*sympy.tan(theta)*q + sympy.cos(phi)*sympy.tan(theta)*r,\n",
    "    0.0,\n",
    "    sympy.cos(phi)*q - sympy.sin(phi)*r,\n",
    "    0.0,\n",
    "    sympy.sin(phi)*sympy.sec(theta)*q + sympy.cos(phi)*sympy.sec(theta)*r,\n",
    "    0.0\n",
    "])\n",
    "\n",
    "A = f.jacobian([phi, p, theta, q, psi, r])\n",
    "A_func = sympy.lambdify([phi, p, theta, q, psi, r], A, modules=['numpy', {'sec':sympy.sec}])\n",
    "f = sympy.lambdify([phi, p, theta, q, psi, r], A, modules=['numpy', {'sec':sympy.sec}])\n",
    "\n",
    "h = sympy.Matrix([phi, p, theta, q, r])\n",
    "h_func = sympy.lambdify([phi, p, theta, q, psi, r], h, modules=['numpy', {'sec':sympy.sec}])\n",
    "\n",
    "C = h.jacobian([phi, p, theta, q, psi, r])\n",
    "C_func = sympy.lambdify([phi, p, theta, q, psi, r], C, modules=['numpy', {'sec':sympy.sec}])\n",
    "\n",
    "\n",
    "x = sympy.Matrix([phi, p, theta, q, psi, r])\n",
    "x0 = np.array([[0.0,0.0,0.0,0.0,0.0,0.0]]).T\n",
    "\n",
    "V = Qc * np.array([[1/3*dt**3,1/2*dt**2,0,0,0,0],\n",
    "                    [1/2*dt**2, dt, 0, 0,0,0],\n",
    "                    [0,0,1/3*dt**3,1/2*dt**2,0,0],\n",
    "                    [0,0,1/2*dt**2, dt,0,0],\n",
    "                    [0,0,0,0,1/3*dt**3,1/2*dt**2],\n",
    "                    [0,0,0,0,1/2*dt**2, dt]])\n",
    "\n",
    "Q0 = V\n",
    "\n",
    "\n",
    "\n",
    "\n",
    "imu = lab2_setup.IMU()\n",
    "\n",
    "\n"
   ]
  },
  {
   "cell_type": "code",
   "execution_count": 70,
   "metadata": {},
   "outputs": [
    {
     "name": "stdout",
     "output_type": "stream",
     "text": [
      "(6, 1)\n"
     ]
    },
    {
     "ename": "NameError",
     "evalue": "name 'imu' is not defined",
     "output_type": "error",
     "traceback": [
      "\u001b[0;31m---------------------------------------------------------------------------\u001b[0m",
      "\u001b[0;31mNameError\u001b[0m                                 Traceback (most recent call last)",
      "\u001b[0;32m/var/folders/5n/t4mfl0s539z8cqdtts6pz8t80000gn/T/ipykernel_58065/3346378288.py\u001b[0m in \u001b[0;36m<module>\u001b[0;34m\u001b[0m\n\u001b[1;32m     23\u001b[0m     \u001b[0;31m# get measurement\u001b[0m\u001b[0;34m\u001b[0m\u001b[0;34m\u001b[0m\u001b[0m\n\u001b[1;32m     24\u001b[0m     \u001b[0my\u001b[0m \u001b[0;34m=\u001b[0m \u001b[0mnp\u001b[0m\u001b[0;34m.\u001b[0m\u001b[0mzeros\u001b[0m\u001b[0;34m(\u001b[0m\u001b[0;34m(\u001b[0m\u001b[0;36m5\u001b[0m\u001b[0;34m,\u001b[0m\u001b[0;36m1\u001b[0m\u001b[0;34m)\u001b[0m\u001b[0;34m)\u001b[0m \u001b[0;31m# TODO: Change to be from the IMU\u001b[0m\u001b[0;34m\u001b[0m\u001b[0;34m\u001b[0m\u001b[0m\n\u001b[0;32m---> 25\u001b[0;31m     \u001b[0macc\u001b[0m \u001b[0;34m=\u001b[0m \u001b[0mimu\u001b[0m\u001b[0;34m.\u001b[0m\u001b[0mget_acc\u001b[0m\u001b[0;34m(\u001b[0m\u001b[0;34m)\u001b[0m\u001b[0;34m\u001b[0m\u001b[0;34m\u001b[0m\u001b[0m\n\u001b[0m\u001b[1;32m     26\u001b[0m     \u001b[0mgyr\u001b[0m \u001b[0;34m=\u001b[0m \u001b[0mimu\u001b[0m\u001b[0;34m.\u001b[0m\u001b[0mget_gyr\u001b[0m\u001b[0;34m(\u001b[0m\u001b[0;34m)\u001b[0m\u001b[0;34m\u001b[0m\u001b[0;34m\u001b[0m\u001b[0m\n\u001b[1;32m     27\u001b[0m     \u001b[0my\u001b[0m\u001b[0;34m[\u001b[0m\u001b[0;36m0\u001b[0m\u001b[0;34m]\u001b[0m \u001b[0;34m=\u001b[0m \u001b[0macc\u001b[0m\u001b[0;34m[\u001b[0m\u001b[0;36m0\u001b[0m\u001b[0;34m]\u001b[0m\u001b[0;34m\u001b[0m\u001b[0;34m\u001b[0m\u001b[0m\n",
      "\u001b[0;31mNameError\u001b[0m: name 'imu' is not defined"
     ]
    }
   ],
   "source": [
    "xh = np.empty((nx,1,10000))\n",
    "Qh = np.empty((nx,nx,10000))\n",
    "\n",
    "i = 0\n",
    "xkk = x0\n",
    "print(xkk.shape)\n",
    "Qkk = Q0\n",
    "xh[:,:,i] = x0\n",
    "Qh[:,:,i] = Q0\n",
    "\n",
    "\n",
    "\n",
    "\n",
    "while i<10000:\n",
    "    i += 1\n",
    "    # propogate statistics\n",
    "    xkkm1 = xkk + dt*(A_func(xkk[0,0],xkk[1,0],xkk[2,0],xkk[3,0],xkk[4,0],xkk[5,0])@xkk)\n",
    "    Qkkm1 = Qkk + dt*(A_func(xkk[0,0],xkk[1,0],xkk[2,0],xkk[3,0],xkk[4,0],xkk[5,0])@Qkk\n",
    "                        + Qkk@A_func(xkk[0,0],xkk[1,0],xkk[2,0],xkk[3,0],xkk[4,0],xkk[5,0]).T\n",
    "                        + V)\n",
    "    Qkkm1 = Qkkm1.astype(np.float64)\n",
    "\n",
    "    # get measurement\n",
    "    y = np.zeros((5,1))\n",
    "    acc = imu.get_acc()\n",
    "    gyr = imu.get_gyr()\n",
    "    y[0] = acc[0]\n",
    "    y[2] = acc[1]\n",
    "    y[1] = gyr[0]\n",
    "    y[3] = gyr[1]\n",
    "    y[4] = gyr[2]\n",
    "\n",
    "    # update estimate using measurement\n",
    "    Ck = C_func(xkk[0,0],xkk[1,0],xkk[2,0],xkk[3,0],xkk[4,0],xkk[5,0]).astype(np.float64)\n",
    "    Lk = Qkkm1@Ck.T@np.linalg.inv(Ck@Qkkm1@Ck.T + R)\n",
    "    xkk = xkkm1 + Lk@(y - h_func(xkk[0,0],xkk[1,0],xkk[2,0],xkk[3,0],xkk[4,0],xkk[5,0]))\n",
    "    Qkk = (np.eye(nx) - Lk@Ck)@Qkkm1\n",
    "\n",
    "    xh[:,:,i] = xkk\n",
    "    Qh[:,:,i] = Qkk\n",
    "    "
   ]
  },
  {
   "cell_type": "code",
   "execution_count": null,
   "metadata": {},
   "outputs": [],
   "source": []
  }
 ],
 "metadata": {
  "codeCellConfig": {
   "tabSize": 2
  },
  "colab": {
   "provenance": []
  },
  "kernelspec": {
   "display_name": "Python 3.9.7 ('base')",
   "language": "python",
   "name": "python3"
  },
  "language_info": {
   "codemirror_mode": {
    "name": "ipython",
    "version": 3
   },
   "file_extension": ".py",
   "mimetype": "text/x-python",
   "name": "python",
   "nbconvert_exporter": "python",
   "pygments_lexer": "ipython3",
   "version": "3.9.7"
  },
  "vscode": {
   "interpreter": {
    "hash": "c711176dfe45da79f5dbc2bf9cf83339a40a3a02f46e8cf4c001f4a4ab9e0b8d"
   }
  }
 },
 "nbformat": 4,
 "nbformat_minor": 4
}
